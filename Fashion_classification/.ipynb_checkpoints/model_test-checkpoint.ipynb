{
 "cells": [
  {
   "cell_type": "code",
   "execution_count": 2,
   "metadata": {},
   "outputs": [],
   "source": [
    "from keras_image_helper import create_preprocessor\n",
    "import tflite_runtime.interpreter as tflite"
   ]
  },
  {
   "cell_type": "code",
   "execution_count": 3,
   "metadata": {},
   "outputs": [
    {
     "data": {
      "text/plain": [
       "{'dress': -1.8682901,\n",
       " 'hat': -4.7612457,\n",
       " 'longsleeve': -2.3169823,\n",
       " 'outwear': -1.0625706,\n",
       " 'pants': 9.8871565,\n",
       " 'shirt': -2.8124304,\n",
       " 'shoes': -3.6662836,\n",
       " 'shorts': 3.200361,\n",
       " 'skirt': -2.6023388,\n",
       " 't-shirt': -4.835045}"
      ]
     },
     "execution_count": 3,
     "metadata": {},
     "output_type": "execute_result"
    }
   ],
   "source": [
    "# applying the preprocssing on the image\n",
    "preprocessor = create_preprocessor('xception', target_size=(299, 299))\n",
    "image_url = 'http://bit.ly/mlbookcamp-pants'\n",
    "x = preprocessor.from_url(image_url)\n",
    "\n",
    "#loading the model we previously converted\n",
    "interpreter = tflite.Interpreter(model_path='clothing-model-v4.tflite')\n",
    "interpreter.allocate_tensors() #Initializes the interpreter with the model\n",
    "\n",
    "\n",
    "input_details = interpreter.get_input_details() \n",
    "input_index = input_details[0]['index'] \n",
    "\n",
    "output_details = interpreter.get_output_details() \n",
    "output_index = output_details[0]['index'] \n",
    "\n",
    "interpreter.set_tensor(input_index, x)\n",
    "#run model to get predictions\n",
    "interpreter.invoke()\n",
    "\n",
    "preds = interpreter.get_tensor(output_index)\n",
    "\n",
    "labels = [\n",
    "'dress',\n",
    "'hat',\n",
    "'longsleeve',\n",
    "'outwear',\n",
    "'pants',\n",
    "'shirt',\n",
    "'shoes',\n",
    "'shorts',\n",
    "'skirt',\n",
    "'t-shirt'\n",
    "]\n",
    "\n",
    "# assign the label to each element of the labels array\n",
    "results = dict(zip(labels, preds[0]))\n",
    "results"
   ]
  },
  {
   "cell_type": "code",
   "execution_count": null,
   "metadata": {},
   "outputs": [],
   "source": []
  }
 ],
 "metadata": {
  "kernelspec": {
   "display_name": "Python 3",
   "language": "python",
   "name": "python3"
  },
  "language_info": {
   "codemirror_mode": {
    "name": "ipython",
    "version": 3
   },
   "file_extension": ".py",
   "mimetype": "text/x-python",
   "name": "python",
   "nbconvert_exporter": "python",
   "pygments_lexer": "ipython3",
   "version": "3.8.5"
  }
 },
 "nbformat": 4,
 "nbformat_minor": 4
}
